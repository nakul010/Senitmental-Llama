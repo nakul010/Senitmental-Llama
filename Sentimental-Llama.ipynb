{
  "nbformat": 4,
  "nbformat_minor": 0,
  "metadata": {
    "colab": {
      "provenance": [],
      "gpuType": "T4"
    },
    "kernelspec": {
      "name": "python3",
      "display_name": "Python 3"
    },
    "language_info": {
      "name": "python"
    },
    "accelerator": "GPU",
    "widgets": {
      "application/vnd.jupyter.widget-state+json": {
        "980a01dcdbfb48c8b629956e9b38c291": {
          "model_module": "@jupyter-widgets/controls",
          "model_name": "HBoxModel",
          "model_module_version": "1.5.0",
          "state": {
            "_dom_classes": [],
            "_model_module": "@jupyter-widgets/controls",
            "_model_module_version": "1.5.0",
            "_model_name": "HBoxModel",
            "_view_count": null,
            "_view_module": "@jupyter-widgets/controls",
            "_view_module_version": "1.5.0",
            "_view_name": "HBoxView",
            "box_style": "",
            "children": [
              "IPY_MODEL_38d36289c97d4f599590aa4e7458ae27",
              "IPY_MODEL_8a63165e124d4e189df45aa577db1d94",
              "IPY_MODEL_f64a43c3b8e74561a254188a7bdc9d9d"
            ],
            "layout": "IPY_MODEL_6ef9aef9723a442292cfd880afd9dcab"
          }
        },
        "38d36289c97d4f599590aa4e7458ae27": {
          "model_module": "@jupyter-widgets/controls",
          "model_name": "HTMLModel",
          "model_module_version": "1.5.0",
          "state": {
            "_dom_classes": [],
            "_model_module": "@jupyter-widgets/controls",
            "_model_module_version": "1.5.0",
            "_model_name": "HTMLModel",
            "_view_count": null,
            "_view_module": "@jupyter-widgets/controls",
            "_view_module_version": "1.5.0",
            "_view_name": "HTMLView",
            "description": "",
            "description_tooltip": null,
            "layout": "IPY_MODEL_fd1cb849784e42e79f31591d43edb4d9",
            "placeholder": "​",
            "style": "IPY_MODEL_47c1d3cc80b64137b542b6754e287022",
            "value": "Loading checkpoint shards: 100%"
          }
        },
        "8a63165e124d4e189df45aa577db1d94": {
          "model_module": "@jupyter-widgets/controls",
          "model_name": "FloatProgressModel",
          "model_module_version": "1.5.0",
          "state": {
            "_dom_classes": [],
            "_model_module": "@jupyter-widgets/controls",
            "_model_module_version": "1.5.0",
            "_model_name": "FloatProgressModel",
            "_view_count": null,
            "_view_module": "@jupyter-widgets/controls",
            "_view_module_version": "1.5.0",
            "_view_name": "ProgressView",
            "bar_style": "success",
            "description": "",
            "description_tooltip": null,
            "layout": "IPY_MODEL_1f0867f8efa24e68aa2ec94e7dc2f167",
            "max": 2,
            "min": 0,
            "orientation": "horizontal",
            "style": "IPY_MODEL_42e62efc8206452580a994055f564061",
            "value": 2
          }
        },
        "f64a43c3b8e74561a254188a7bdc9d9d": {
          "model_module": "@jupyter-widgets/controls",
          "model_name": "HTMLModel",
          "model_module_version": "1.5.0",
          "state": {
            "_dom_classes": [],
            "_model_module": "@jupyter-widgets/controls",
            "_model_module_version": "1.5.0",
            "_model_name": "HTMLModel",
            "_view_count": null,
            "_view_module": "@jupyter-widgets/controls",
            "_view_module_version": "1.5.0",
            "_view_name": "HTMLView",
            "description": "",
            "description_tooltip": null,
            "layout": "IPY_MODEL_58eaaccdb98044b2b685ba8370e3eb95",
            "placeholder": "​",
            "style": "IPY_MODEL_c704c349ed064836b2670275eaa5c024",
            "value": " 2/2 [00:34&lt;00:00, 15.46s/it]"
          }
        },
        "6ef9aef9723a442292cfd880afd9dcab": {
          "model_module": "@jupyter-widgets/base",
          "model_name": "LayoutModel",
          "model_module_version": "1.2.0",
          "state": {
            "_model_module": "@jupyter-widgets/base",
            "_model_module_version": "1.2.0",
            "_model_name": "LayoutModel",
            "_view_count": null,
            "_view_module": "@jupyter-widgets/base",
            "_view_module_version": "1.2.0",
            "_view_name": "LayoutView",
            "align_content": null,
            "align_items": null,
            "align_self": null,
            "border": null,
            "bottom": null,
            "display": null,
            "flex": null,
            "flex_flow": null,
            "grid_area": null,
            "grid_auto_columns": null,
            "grid_auto_flow": null,
            "grid_auto_rows": null,
            "grid_column": null,
            "grid_gap": null,
            "grid_row": null,
            "grid_template_areas": null,
            "grid_template_columns": null,
            "grid_template_rows": null,
            "height": null,
            "justify_content": null,
            "justify_items": null,
            "left": null,
            "margin": null,
            "max_height": null,
            "max_width": null,
            "min_height": null,
            "min_width": null,
            "object_fit": null,
            "object_position": null,
            "order": null,
            "overflow": null,
            "overflow_x": null,
            "overflow_y": null,
            "padding": null,
            "right": null,
            "top": null,
            "visibility": null,
            "width": null
          }
        },
        "fd1cb849784e42e79f31591d43edb4d9": {
          "model_module": "@jupyter-widgets/base",
          "model_name": "LayoutModel",
          "model_module_version": "1.2.0",
          "state": {
            "_model_module": "@jupyter-widgets/base",
            "_model_module_version": "1.2.0",
            "_model_name": "LayoutModel",
            "_view_count": null,
            "_view_module": "@jupyter-widgets/base",
            "_view_module_version": "1.2.0",
            "_view_name": "LayoutView",
            "align_content": null,
            "align_items": null,
            "align_self": null,
            "border": null,
            "bottom": null,
            "display": null,
            "flex": null,
            "flex_flow": null,
            "grid_area": null,
            "grid_auto_columns": null,
            "grid_auto_flow": null,
            "grid_auto_rows": null,
            "grid_column": null,
            "grid_gap": null,
            "grid_row": null,
            "grid_template_areas": null,
            "grid_template_columns": null,
            "grid_template_rows": null,
            "height": null,
            "justify_content": null,
            "justify_items": null,
            "left": null,
            "margin": null,
            "max_height": null,
            "max_width": null,
            "min_height": null,
            "min_width": null,
            "object_fit": null,
            "object_position": null,
            "order": null,
            "overflow": null,
            "overflow_x": null,
            "overflow_y": null,
            "padding": null,
            "right": null,
            "top": null,
            "visibility": null,
            "width": null
          }
        },
        "47c1d3cc80b64137b542b6754e287022": {
          "model_module": "@jupyter-widgets/controls",
          "model_name": "DescriptionStyleModel",
          "model_module_version": "1.5.0",
          "state": {
            "_model_module": "@jupyter-widgets/controls",
            "_model_module_version": "1.5.0",
            "_model_name": "DescriptionStyleModel",
            "_view_count": null,
            "_view_module": "@jupyter-widgets/base",
            "_view_module_version": "1.2.0",
            "_view_name": "StyleView",
            "description_width": ""
          }
        },
        "1f0867f8efa24e68aa2ec94e7dc2f167": {
          "model_module": "@jupyter-widgets/base",
          "model_name": "LayoutModel",
          "model_module_version": "1.2.0",
          "state": {
            "_model_module": "@jupyter-widgets/base",
            "_model_module_version": "1.2.0",
            "_model_name": "LayoutModel",
            "_view_count": null,
            "_view_module": "@jupyter-widgets/base",
            "_view_module_version": "1.2.0",
            "_view_name": "LayoutView",
            "align_content": null,
            "align_items": null,
            "align_self": null,
            "border": null,
            "bottom": null,
            "display": null,
            "flex": null,
            "flex_flow": null,
            "grid_area": null,
            "grid_auto_columns": null,
            "grid_auto_flow": null,
            "grid_auto_rows": null,
            "grid_column": null,
            "grid_gap": null,
            "grid_row": null,
            "grid_template_areas": null,
            "grid_template_columns": null,
            "grid_template_rows": null,
            "height": null,
            "justify_content": null,
            "justify_items": null,
            "left": null,
            "margin": null,
            "max_height": null,
            "max_width": null,
            "min_height": null,
            "min_width": null,
            "object_fit": null,
            "object_position": null,
            "order": null,
            "overflow": null,
            "overflow_x": null,
            "overflow_y": null,
            "padding": null,
            "right": null,
            "top": null,
            "visibility": null,
            "width": null
          }
        },
        "42e62efc8206452580a994055f564061": {
          "model_module": "@jupyter-widgets/controls",
          "model_name": "ProgressStyleModel",
          "model_module_version": "1.5.0",
          "state": {
            "_model_module": "@jupyter-widgets/controls",
            "_model_module_version": "1.5.0",
            "_model_name": "ProgressStyleModel",
            "_view_count": null,
            "_view_module": "@jupyter-widgets/base",
            "_view_module_version": "1.2.0",
            "_view_name": "StyleView",
            "bar_color": null,
            "description_width": ""
          }
        },
        "58eaaccdb98044b2b685ba8370e3eb95": {
          "model_module": "@jupyter-widgets/base",
          "model_name": "LayoutModel",
          "model_module_version": "1.2.0",
          "state": {
            "_model_module": "@jupyter-widgets/base",
            "_model_module_version": "1.2.0",
            "_model_name": "LayoutModel",
            "_view_count": null,
            "_view_module": "@jupyter-widgets/base",
            "_view_module_version": "1.2.0",
            "_view_name": "LayoutView",
            "align_content": null,
            "align_items": null,
            "align_self": null,
            "border": null,
            "bottom": null,
            "display": null,
            "flex": null,
            "flex_flow": null,
            "grid_area": null,
            "grid_auto_columns": null,
            "grid_auto_flow": null,
            "grid_auto_rows": null,
            "grid_column": null,
            "grid_gap": null,
            "grid_row": null,
            "grid_template_areas": null,
            "grid_template_columns": null,
            "grid_template_rows": null,
            "height": null,
            "justify_content": null,
            "justify_items": null,
            "left": null,
            "margin": null,
            "max_height": null,
            "max_width": null,
            "min_height": null,
            "min_width": null,
            "object_fit": null,
            "object_position": null,
            "order": null,
            "overflow": null,
            "overflow_x": null,
            "overflow_y": null,
            "padding": null,
            "right": null,
            "top": null,
            "visibility": null,
            "width": null
          }
        },
        "c704c349ed064836b2670275eaa5c024": {
          "model_module": "@jupyter-widgets/controls",
          "model_name": "DescriptionStyleModel",
          "model_module_version": "1.5.0",
          "state": {
            "_model_module": "@jupyter-widgets/controls",
            "_model_module_version": "1.5.0",
            "_model_name": "DescriptionStyleModel",
            "_view_count": null,
            "_view_module": "@jupyter-widgets/base",
            "_view_module_version": "1.2.0",
            "_view_name": "StyleView",
            "description_width": ""
          }
        }
      }
    }
  },
  "cells": [
    {
      "cell_type": "code",
      "source": [
        "# Install required libraries\n",
        "!pip install -q accelerate protobuf sentencepiece torch git+https://github.com/huggingface/transformers huggingface_hub gradio pandas"
      ],
      "metadata": {
        "colab": {
          "base_uri": "https://localhost:8080/"
        },
        "id": "8PL-28ihdvXM",
        "outputId": "f4fb8c7f-17d8-4029-b983-ad98d50538b5"
      },
      "execution_count": 36,
      "outputs": [
        {
          "output_type": "stream",
          "name": "stdout",
          "text": [
            "  Installing build dependencies ... \u001b[?25l\u001b[?25hdone\n",
            "  Getting requirements to build wheel ... \u001b[?25l\u001b[?25hdone\n",
            "  Preparing metadata (pyproject.toml) ... \u001b[?25l\u001b[?25hdone\n"
          ]
        }
      ]
    },
    {
      "cell_type": "code",
      "source": [
        "# Import necessary libraries\n",
        "import pandas as pd\n",
        "import numpy as np\n",
        "import torch\n",
        "from transformers import AutoTokenizer, AutoModelForSequenceClassification, pipeline\n",
        "from transformers import AutoModelForCausalLM, AutoTokenizer as LlamaTokenizer\n",
        "from huggingface_hub import login\n",
        "import gradio as gr\n",
        "from textblob import TextBlob\n",
        "import re"
      ],
      "metadata": {
        "id": "OlRgbJKndxmO"
      },
      "execution_count": 37,
      "outputs": []
    },
    {
      "cell_type": "code",
      "source": [
        "from google.colab import userdata\n",
        "\n",
        "login(token=userdata.get('huggingface'))"
      ],
      "metadata": {
        "colab": {
          "base_uri": "https://localhost:8080/"
        },
        "id": "Lm-tRNupd0lQ",
        "outputId": "c012a675-1c50-4b0c-8bdc-007b6759d3b7"
      },
      "execution_count": 38,
      "outputs": [
        {
          "output_type": "stream",
          "name": "stdout",
          "text": [
            "The token has not been saved to the git credentials helper. Pass `add_to_git_credential=True` in this function directly or `--add-to-git-credential` if using via `huggingface-cli` if you want to set the git credential as well.\n",
            "Token is valid (permission: read).\n",
            "Your token has been saved to /root/.cache/huggingface/token\n",
            "Login successful\n"
          ]
        }
      ]
    },
    {
      "cell_type": "code",
      "source": [
        "llama_model_id = \"meta-llama/Llama-3.2-3B-Instruct\"\n",
        "llama_model = AutoModelForCausalLM.from_pretrained(llama_model_id, torch_dtype=torch.float16, device_map=\"auto\")\n",
        "llama_tokenizer = LlamaTokenizer.from_pretrained(llama_model_id)"
      ],
      "metadata": {
        "id": "Tbw37faYkWVK",
        "colab": {
          "base_uri": "https://localhost:8080/",
          "height": 66,
          "referenced_widgets": [
            "980a01dcdbfb48c8b629956e9b38c291",
            "38d36289c97d4f599590aa4e7458ae27",
            "8a63165e124d4e189df45aa577db1d94",
            "f64a43c3b8e74561a254188a7bdc9d9d",
            "6ef9aef9723a442292cfd880afd9dcab",
            "fd1cb849784e42e79f31591d43edb4d9",
            "47c1d3cc80b64137b542b6754e287022",
            "1f0867f8efa24e68aa2ec94e7dc2f167",
            "42e62efc8206452580a994055f564061",
            "58eaaccdb98044b2b685ba8370e3eb95",
            "c704c349ed064836b2670275eaa5c024"
          ]
        },
        "outputId": "d7591110-82b8-4fc9-ff5e-eca936066e04"
      },
      "execution_count": 46,
      "outputs": [
        {
          "output_type": "display_data",
          "data": {
            "text/plain": [
              "Loading checkpoint shards:   0%|          | 0/2 [00:00<?, ?it/s]"
            ],
            "application/vnd.jupyter.widget-view+json": {
              "version_major": 2,
              "version_minor": 0,
              "model_id": "980a01dcdbfb48c8b629956e9b38c291"
            }
          },
          "metadata": {}
        },
        {
          "output_type": "stream",
          "name": "stderr",
          "text": [
            "WARNING:accelerate.big_modeling:Some parameters are on the meta device because they were offloaded to the cpu.\n"
          ]
        }
      ]
    },
    {
      "cell_type": "code",
      "source": [
        "# Use device 0 for GPU if available, otherwise default to CPU\n",
        "device = 0 if torch.cuda.is_available() else -1\n",
        "device"
      ],
      "metadata": {
        "colab": {
          "base_uri": "https://localhost:8080/"
        },
        "id": "hpqY-PcWhb4u",
        "outputId": "b1510a94-a1a2-4e64-cae9-c25a0b5a05cf"
      },
      "execution_count": 47,
      "outputs": [
        {
          "output_type": "execute_result",
          "data": {
            "text/plain": [
              "0"
            ]
          },
          "metadata": {},
          "execution_count": 47
        }
      ]
    },
    {
      "cell_type": "code",
      "source": [
        "# Initialize RoBERTa model for advanced sentiment analysis\n",
        "roberta_model_id = \"cardiffnlp/twitter-roberta-base-sentiment-latest\"\n",
        "roberta_tokenizer = AutoTokenizer.from_pretrained(roberta_model_id)\n",
        "roberta_model = AutoModelForSequenceClassification.from_pretrained(roberta_model_id)\n",
        "sentiment_pipeline = pipeline(\"sentiment-analysis\", model=roberta_model, tokenizer=roberta_tokenizer, device=device)"
      ],
      "metadata": {
        "colab": {
          "base_uri": "https://localhost:8080/"
        },
        "id": "FPiVPZ17ZhZK",
        "outputId": "489d0f71-91ce-45c0-8c74-cc8c2701ff0b"
      },
      "execution_count": 48,
      "outputs": [
        {
          "output_type": "stream",
          "name": "stderr",
          "text": [
            "/usr/local/lib/python3.10/dist-packages/transformers/tokenization_utils_base.py:1617: FutureWarning: `clean_up_tokenization_spaces` was not set. It will be set to `True` by default. This behavior will be deprecated in transformers v4.45, and will be then set to `False` by default. For more details check this issue: https://github.com/huggingface/transformers/issues/31884\n",
            "  warnings.warn(\n",
            "Some weights of the model checkpoint at cardiffnlp/twitter-roberta-base-sentiment-latest were not used when initializing RobertaForSequenceClassification: ['roberta.pooler.dense.bias', 'roberta.pooler.dense.weight']\n",
            "- This IS expected if you are initializing RobertaForSequenceClassification from the checkpoint of a model trained on another task or with another architecture (e.g. initializing a BertForSequenceClassification model from a BertForPreTraining model).\n",
            "- This IS NOT expected if you are initializing RobertaForSequenceClassification from the checkpoint of a model that you expect to be exactly identical (initializing a BertForSequenceClassification model from a BertForSequenceClassification model).\n"
          ]
        }
      ]
    },
    {
      "cell_type": "code",
      "source": [
        "# Function to perform advanced sentiment analysis\n",
        "def analyze_sentiment(text):\n",
        "    # RoBERTa sentiment analysis\n",
        "    roberta_result = sentiment_pipeline(text)[0]\n",
        "    roberta_sentiment = roberta_result['label']\n",
        "    roberta_score = roberta_result['score']\n",
        "\n",
        "    # TextBlob sentiment analysis\n",
        "    blob = TextBlob(text)\n",
        "    textblob_polarity = blob.sentiment.polarity\n",
        "    textblob_subjectivity = blob.sentiment.subjectivity\n",
        "\n",
        "    # Emotion detection using custom keywords\n",
        "    emotions = {\n",
        "        'frustrated': len(re.findall(r'\\b(frustrat|confus|difficult)\\w*\\b', text, re.IGNORECASE)),\n",
        "        'curious': len(re.findall(r'\\b(curious|interest|wonder)\\w*\\b', text, re.IGNORECASE)),\n",
        "        'excited': len(re.findall(r'\\b(excit|enthusiastic|eager)\\w*\\b', text, re.IGNORECASE))\n",
        "    }\n",
        "    dominant_emotion = max(emotions, key=emotions.get) if any(emotions.values()) else 'neutral'\n",
        "\n",
        "    # Combine all sentiment analyses\n",
        "    overall_sentiment = roberta_sentiment.lower()\n",
        "    if textblob_polarity < -0.3:\n",
        "        overall_sentiment = 'negative'\n",
        "    elif textblob_polarity > 0.3:\n",
        "        overall_sentiment = 'positive'\n",
        "\n",
        "    return {\n",
        "        'overall_sentiment': overall_sentiment,\n",
        "        'roberta_sentiment': roberta_sentiment,\n",
        "        'roberta_score': roberta_score,\n",
        "        'textblob_polarity': textblob_polarity,\n",
        "        'textblob_subjectivity': textblob_subjectivity,\n",
        "        'dominant_emotion': dominant_emotion\n",
        "    }"
      ],
      "metadata": {
        "id": "ER8y95ygkdsZ"
      },
      "execution_count": 49,
      "outputs": []
    },
    {
      "cell_type": "code",
      "source": [
        "# Function to generate tutoring response based on sentiment\n",
        "def generate_tutoring_response(query, sentiment_info):\n",
        "    prompt = f\"\"\"As an educational tutor, respond to the following query:\n",
        "    \"{query}\"\n",
        "\n",
        "    The user's sentiment analysis:\n",
        "    - Overall sentiment: {sentiment_info['overall_sentiment']}\n",
        "    - Dominant emotion: {sentiment_info['dominant_emotion']}\n",
        "    - Subjectivity: {sentiment_info['textblob_subjectivity']}\n",
        "\n",
        "    Adjust your explanation based on this sentiment. If the sentiment is negative or the user seems frustrated,\n",
        "    provide a simpler explanation with encouragement. If positive or curious, offer a more detailed response.\n",
        "    If the user seems excited, match their enthusiasm in your response.\n",
        "    \"\"\"\n",
        "\n",
        "    inputs = llama_tokenizer(prompt, return_tensors=\"pt\").to(\"cuda\")\n",
        "    outputs = llama_model.generate(**inputs, max_length=300, num_return_sequences=1, temperature=0.7)\n",
        "    response = llama_tokenizer.decode(outputs[0], skip_special_tokens=True)\n",
        "\n",
        "    return response.strip()"
      ],
      "metadata": {
        "id": "zflpyQuxhykF"
      },
      "execution_count": 50,
      "outputs": []
    },
    {
      "cell_type": "code",
      "source": [
        "# Function to handle user input and generate response\n",
        "def tutor_response(user_input, chat_history=None):\n",
        "    # Initialize chat history if None\n",
        "    if chat_history is None:\n",
        "        chat_history = []\n",
        "\n",
        "    # Analyze the sentiment of the user input\n",
        "    sentiment_info = analyze_sentiment(user_input)\n",
        "\n",
        "    # Generate a response based on the sentiment analysis\n",
        "    response = generate_tutoring_response(user_input, sentiment_info)\n",
        "\n",
        "    # Sentiment summary (optional display)\n",
        "    sentiment_summary = f\"\"\"Sentiment Analysis:\n",
        "    - Overall Sentiment: {sentiment_info['overall_sentiment']}\n",
        "    - Dominant Emotion: {sentiment_info['dominant_emotion']}\n",
        "    - Subjectivity: {sentiment_info['textblob_subjectivity']:.2f}\n",
        "    - Confidence: {sentiment_info['roberta_score']:.2f}\n",
        "    \"\"\"\n",
        "\n",
        "    # Append user input and generated response to chat history\n",
        "    chat_history.append((user_input, response))\n",
        "\n",
        "    # Create a displayable chat history\n",
        "    chat_display = \"\"\n",
        "    for user_msg, bot_response in chat_history:\n",
        "        chat_display += f\"User: {user_msg}\\nTutor: {bot_response}\\n\\n\"\n",
        "\n",
        "    return chat_display, chat_history"
      ],
      "metadata": {
        "id": "C6jGH44KkfDU"
      },
      "execution_count": 51,
      "outputs": []
    },
    {
      "cell_type": "code",
      "source": [
        "# Create Gradio chat interface\n",
        "iface = gr.Interface(\n",
        "    fn=tutor_response,\n",
        "    inputs=[gr.Textbox(lines=2, placeholder=\"Ask your question here...\"), gr.State()],\n",
        "    outputs=[gr.Textbox(label=\"Chat History\", lines=20), gr.State()],\n",
        "    title=\"Educational Tutor Chatbot with Advanced Sentiment Analysis\",\n",
        "    description=\"Ask any educational question. The tutor will adjust its response based on your emotional state and the complexity of your query.\",\n",
        "    allow_flagging=\"never\"\n",
        ")\n",
        "\n",
        "# Launch the interface\n",
        "iface.launch()"
      ],
      "metadata": {
        "colab": {
          "base_uri": "https://localhost:8080/",
          "height": 626
        },
        "id": "rijtH5i3empR",
        "outputId": "1230ee77-35c8-4b76-dd18-baae718f08b9"
      },
      "execution_count": 52,
      "outputs": [
        {
          "output_type": "stream",
          "name": "stdout",
          "text": [
            "Setting queue=True in a Colab notebook requires sharing enabled. Setting `share=True` (you can turn this off by setting `share=False` in `launch()` explicitly).\n",
            "\n",
            "Colab notebook detected. To show errors in colab notebook, set debug=True in launch()\n",
            "Running on public URL: https://642ecd4cfb50b07c69.gradio.live\n",
            "\n",
            "This share link expires in 72 hours. For free permanent hosting and GPU upgrades, run `gradio deploy` from Terminal to deploy to Spaces (https://huggingface.co/spaces)\n"
          ]
        },
        {
          "output_type": "display_data",
          "data": {
            "text/plain": [
              "<IPython.core.display.HTML object>"
            ],
            "text/html": [
              "<div><iframe src=\"https://642ecd4cfb50b07c69.gradio.live\" width=\"100%\" height=\"500\" allow=\"autoplay; camera; microphone; clipboard-read; clipboard-write;\" frameborder=\"0\" allowfullscreen></iframe></div>"
            ]
          },
          "metadata": {}
        },
        {
          "output_type": "execute_result",
          "data": {
            "text/plain": []
          },
          "metadata": {},
          "execution_count": 52
        }
      ]
    },
    {
      "cell_type": "code",
      "source": [],
      "metadata": {
        "id": "XjL8l7-giAlI"
      },
      "execution_count": 45,
      "outputs": []
    }
  ]
}